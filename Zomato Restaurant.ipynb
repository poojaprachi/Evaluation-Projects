{
 "cells": [
  {
   "cell_type": "markdown",
   "id": "3ae4d7c3",
   "metadata": {},
   "source": [
    "## Zomato Restaurant\n",
    "##### Project Description\n",
    "Zomato Data Analysis is one of the most useful analysis for foodies who want to taste the best\n",
    "cuisines of every part of the world which lies in their budget. This analysis is also for those who\n",
    "want to find the value for money restaurants in various parts of the country for the cuisines.\n",
    "Additionally, this analysis caters the needs of people who are striving to get the best cuisine of\n",
    "the country and which locality of that country serves that cuisines with maximum number of\n",
    "restaurants.\n",
    "\n",
    "##### Data Storage:\n",
    "This problem statement contains two datasets- Zomato.csv and country_code.csv.\n",
    "Country_code.csv contains two variables:\n",
    "* Country code\n",
    "* Country name\n",
    "\n",
    "The collected data has been stored in the Comma Separated Value file Zomato.csv. Each\n",
    "restaurant in the dataset is uniquely identified by its Restaurant Id. Every Restaurant contains the following variables:\n",
    "* Restaurant Id: Unique id of every restaurant across various cities of the world\n",
    "* Restaurant Name: Name of the restaurant\n",
    "* Country Code: Country in which restaurant is located\n",
    "* City: City in which restaurant is located\n",
    "* Address: Address of the restaurant\n",
    "* Locality: Location in the city\n",
    "* Locality Verbose: Detailed description of the locality\n",
    "* Longitude: Longitude coordinate of the restaurant&#39;s location\n",
    "* Latitude: Latitude coordinate of the restaurant&#39;s location\n",
    "* Cuisines: Cuisines offered by the restaurant\n",
    "* Average Cost for two: Cost for two people in different currencies ��\n",
    "* Currency: Currency of the country\n",
    "* Has Table booking: yes/no\n",
    "* Has Online delivery: yes/ no\n",
    "* Is delivering: yes/ no\n",
    "* Switch to order menu: yes/no\n",
    "* Price range: range of price of food\n",
    "* Aggregate Rating: Average rating out of 5\n",
    "* Rating color: depending upon the average rating color\n",
    "* Rating text: text on the basis of rating of rating\n",
    "* Votes: Number of ratings casted by people\n",
    "\n",
    "Problem statement : In this dataset predict 2 things –\n",
    "1) Average Cost for two\n",
    "2) Price range\n",
    "\n",
    "\n",
    "Hint : Use pandas merge operation -- pd.merge (df1,df2) to combine two datasets\n",
    "\n",
    "\n",
    "Dataset Link-  \n",
    "•\thttps://github.com/dsrscientist/dataset4/blob/main/Country-Code.xlsx\n",
    "•\thttps://github.com/dsrscientist/dataset4/blob/main/zomato.csv\n"
   ]
  },
  {
   "cell_type": "code",
   "execution_count": 1,
   "id": "8d67e7bd",
   "metadata": {},
   "outputs": [],
   "source": [
    "#Importing necessary libraries\n",
    "import pandas as pd\n",
    "import numpy as np\n",
    "from sklearn.model_selection import train_test_split\n",
    "from sklearn.preprocessing import LabelEncoder\n",
    "from sklearn.ensemble import RandomForestRegressor\n",
    "from sklearn.metrics import mean_squared_error"
   ]
  },
  {
   "cell_type": "code",
   "execution_count": null,
   "id": "d5c4ff06",
   "metadata": {},
   "outputs": [],
   "source": [
    "#loading datasets\n",
    "zomato_data = pd.read_csv(\"https://raw.githubusercontent.com/dsrscientist/dataset4/main/zomato.csv\")\n",
    "country_code = pd.read_excel(\"https://github.com/dsrscientist/dataset4/raw/main/Country-Code.xlsx\")"
   ]
  },
  {
   "cell_type": "code",
   "execution_count": null,
   "id": "8accdd92",
   "metadata": {},
   "outputs": [],
   "source": [
    "#merging datasets on 'Country Code' to get full country names\n",
    "zomato_data = pd.merge(zomato_data, country_code, on='Country Code', how='left')"
   ]
  },
  {
   "cell_type": "code",
   "execution_count": null,
   "id": "ba791ea9",
   "metadata": {},
   "outputs": [],
   "source": [
    "#preprocessing data, dropping unnecessary columns\n",
    "zomato_data.drop(['Restaurant ID', 'Restaurant Name', 'Address', 'Locality', 'Locality Verbose', 'Currency'], axis=1, inplace=True)"
   ]
  },
  {
   "cell_type": "code",
   "execution_count": null,
   "id": "6c8ce23f",
   "metadata": {},
   "outputs": [],
   "source": [
    "#encoding categorical variables\n",
    "le = LabelEncoder()\n",
    "zomato_data['Has Table booking'] = le.fit_transform(zomato_data['Has Table booking'])\n",
    "zomato_data['Has Online delivery'] = le.fit_transform(zomato_data['Has Online delivery'])\n",
    "zomato_data['Is delivering now'] = le.fit_transform(zomato_data['Is delivering now'])\n",
    "zomato_data['Switch to order menu'] = le.fit_transform(zomato_data['Switch to order menu'])\n",
    "zomato_data['Rating text'] = le.fit_transform(zomato_data['Rating text'])\n",
    "zomato_data['Country'] = le.fit_transform(zomato_data['Country'])"
   ]
  },
  {
   "cell_type": "code",
   "execution_count": null,
   "id": "5bde4db4",
   "metadata": {},
   "outputs": [],
   "source": [
    "#handling missing values\n",
    "zomato_data.fillna(0, inplace=True)"
   ]
  },
  {
   "cell_type": "code",
   "execution_count": null,
   "id": "679b48ec",
   "metadata": {},
   "outputs": [],
   "source": [
    "#splitting data into features and target variables\n",
    "X = zomato_data.drop(['Average Cost for two', 'Price range'], axis=1)\n",
    "y_cost = zomato_data['Average Cost for two']\n",
    "y_price_range = zomato_data['Price range']"
   ]
  },
  {
   "cell_type": "code",
   "execution_count": null,
   "id": "5e9c27b1",
   "metadata": {},
   "outputs": [],
   "source": [
    "#splitting data into training and testing sets\n",
    "X_train, X_test, y_cost_train, y_cost_test = train_test_split(X, y_cost, test_size=0.2, random_state=42)\n",
    "X_train, X_test, y_price_range_train, y_price_range_test = train_test_split(X, y_price_range, test_size=0.2, random_state=42)"
   ]
  },
  {
   "cell_type": "code",
   "execution_count": null,
   "id": "6fe4737c",
   "metadata": {},
   "outputs": [],
   "source": [
    "#Model Training, Random Forest Regressor for predicting Average Cost for two\n",
    "rf_cost = RandomForestRegressor(n_estimators=100, random_state=42)\n",
    "rf_cost.fit(X_train, y_cost_train)"
   ]
  },
  {
   "cell_type": "code",
   "execution_count": null,
   "id": "b36d8431",
   "metadata": {},
   "outputs": [],
   "source": [
    "#Random Forest Regressor for predicting Price range\n",
    "rf_price_range = RandomForestRegressor(n_estimators=100, random_state=42)\n",
    "rf_price_range.fit(X_train, y_price_range_train)"
   ]
  },
  {
   "cell_type": "code",
   "execution_count": null,
   "id": "a190e2e2",
   "metadata": {},
   "outputs": [],
   "source": [
    "#predictions\n",
    "y_cost_pred = rf_cost.predict(X_test)\n",
    "y_price_range_pred = rf_price_range.predict(X_test)"
   ]
  },
  {
   "cell_type": "code",
   "execution_count": null,
   "id": "83d41d4e",
   "metadata": {},
   "outputs": [],
   "source": [
    "#Model Evaluation\n",
    "mse_cost = mean_squared_error(y_cost_test, y_cost_pred)\n",
    "mse_price_range = mean_squared_error(y_price_range_test, y_price_range_pred)\n",
    "\n",
    "print(\"Mean Squared Error for Average Cost for two:\", mse_cost)\n",
    "print(\"Mean Squared Error for Price range:\", mse_price_range)"
   ]
  },
  {
   "cell_type": "code",
   "execution_count": null,
   "id": "c057b947",
   "metadata": {},
   "outputs": [],
   "source": []
  }
 ],
 "metadata": {
  "kernelspec": {
   "display_name": "Python 3 (ipykernel)",
   "language": "python",
   "name": "python3"
  },
  "language_info": {
   "codemirror_mode": {
    "name": "ipython",
    "version": 3
   },
   "file_extension": ".py",
   "mimetype": "text/x-python",
   "name": "python",
   "nbconvert_exporter": "python",
   "pygments_lexer": "ipython3",
   "version": "3.10.9"
  }
 },
 "nbformat": 4,
 "nbformat_minor": 5
}
