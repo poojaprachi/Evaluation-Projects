{
 "cells": [
  {
   "cell_type": "markdown",
   "id": "f0106f58",
   "metadata": {},
   "source": [
    "## Temperature Forecast Project using ML\n",
    "##### Project Description\n",
    "This data is for the purpose of bias correction of next-day maximum and minimum air temperatures forecast of the LDAPS model operated by the Korea Meteorological Administration over Seoul, South Korea. This data consists of summer data from 2013 to 2017. The input data is largely composed of the LDAPS model's next-day forecast data, in-situ maximum and minimum temperatures of present-day, and geographic auxiliary variables. There are two outputs (i.e. next-day maximum and minimum air temperatures) in this data. Hindcast validation was conducted for the period from 2015 to 2017.\n",
    "\n",
    "##### Attribute Information:\n",
    "For more information, read [Cho et al, 2020].\n",
    "1. station - used weather station number: 1 to 25\n",
    "2. Date - Present day: yyyy-mm-dd ('2013-06-30' to '2017-08-30')\n",
    "3. Present_Tmax - Maximum air temperature between 0 and 21 h on the present day (Â°C): 20 to 37.6\n",
    "4. Present_Tmin - Minimum air temperature between 0 and 21 h on the present day (Â°C): 11.3 to 29.9\n",
    "5. LDAPS_RHmin - LDAPS model forecast of next-day minimum relative humidity (%): 19.8 to 98.5\n",
    "6. LDAPS_RHmax - LDAPS model forecast of next-day maximum relative humidity (%): 58.9 to 100\n",
    "7. LDAPS_Tmax_lapse - LDAPS model forecast of next-day maximum air temperature applied lapse rate (Â°C): 17.6 to 38.5\n",
    "8. LDAPS_Tmin_lapse - LDAPS model forecast of next-day minimum air temperature applied lapse rate (Â°C): 14.3 to 29.6\n",
    "9. LDAPS_WS - LDAPS model forecast of next-day average wind speed (m/s): 2.9 to 21.9\n",
    "10. LDAPS_LH - LDAPS model forecast of next-day average latent heat flux (W/m2): -13.6 to 213.4\n",
    "11. LDAPS_CC1 - LDAPS model forecast of next-day 1st 6-hour split average cloud cover (0-5 h) (%): 0 to 0.97\n",
    "12. LDAPS_CC2 - LDAPS model forecast of next-day 2nd 6-hour split average cloud cover (6-11 h) (%): 0 to 0.97\n",
    "13. LDAPS_CC3 - LDAPS model forecast of next-day 3rd 6-hour split average cloud cover (12-17 h) (%): 0 to 0.98\n",
    "14. LDAPS_CC4 - LDAPS model forecast of next-day 4th 6-hour split average cloud cover (18-23 h) (%): 0 to 0.97\n",
    "15. LDAPS_PPT1 - LDAPS model forecast of next-day 1st 6-hour split average precipitation (0-5 h) (%): 0 to 23.7\n",
    "16. LDAPS_PPT2 - LDAPS model forecast of next-day 2nd 6-hour split average precipitation (6-11 h) (%): 0 to 21.6\n",
    "17. LDAPS_PPT3 - LDAPS model forecast of next-day 3rd 6-hour split average precipitation (12-17 h) (%): 0 to 15.8\n",
    "18. LDAPS_PPT4 - LDAPS model forecast of next-day 4th 6-hour split average precipitation (18-23 h) (%): 0 to 16.7\n",
    "19. lat - Latitude (Â°): 37.456 to 37.645\n",
    "20. lon - Longitude (Â°): 126.826 to 127.135\n",
    "21. DEM - Elevation (m): 12.4 to 212.3\n",
    "22. Slope - Slope (Â°): 0.1 to 5.2\n",
    "23. Solar radiation - Daily incoming solar radiation (wh/m2): 4329.5 to 5992.9\n",
    "24. Next_Tmax - The next-day maximum air temperature (Â°C): 17.4 to 38.9\n",
    "25. Next_Tmin - The next-day minimum air temperature (Â°C): 11.3 to 29.8T\n",
    "\n",
    "You have to build separate models that can predict the minimum temperature for the next day and the maximum temperature for the next day based on the details provided in the dataset.\n",
    "\n",
    "##### Dataset Link-\n",
    "\n",
    "https://github.com/dsrscientist/Dataset2/blob/main/temperature.csv\n"
   ]
  },
  {
   "cell_type": "code",
   "execution_count": 1,
   "id": "a627b939",
   "metadata": {},
   "outputs": [],
   "source": [
    "# Import necessary libraries\n",
    "import pandas as pd\n",
    "from sklearn.model_selection import train_test_split\n",
    "from sklearn.ensemble import RandomForestRegressor\n",
    "from sklearn.metrics import mean_squared_error"
   ]
  },
  {
   "cell_type": "code",
   "execution_count": 2,
   "id": "f4f18e39",
   "metadata": {},
   "outputs": [],
   "source": [
    "# Load the dataset\n",
    "url = \"https://raw.githubusercontent.com/dsrscientist/Dataset2/main/temperature.csv\"\n",
    "data = pd.read_csv(url)"
   ]
  },
  {
   "cell_type": "code",
   "execution_count": 3,
   "id": "57fb4262",
   "metadata": {},
   "outputs": [
    {
     "name": "stdout",
     "output_type": "stream",
     "text": [
      "   station        Date  Present_Tmax  Present_Tmin  LDAPS_RHmin  LDAPS_RHmax  \\\n",
      "0      1.0  30-06-2013          28.7          21.4    58.255688    91.116364   \n",
      "1      2.0  30-06-2013          31.9          21.6    52.263397    90.604721   \n",
      "2      3.0  30-06-2013          31.6          23.3    48.690479    83.973587   \n",
      "3      4.0  30-06-2013          32.0          23.4    58.239788    96.483688   \n",
      "4      5.0  30-06-2013          31.4          21.9    56.174095    90.155128   \n",
      "\n",
      "   LDAPS_Tmax_lapse  LDAPS_Tmin_lapse  LDAPS_WS    LDAPS_LH  ...  LDAPS_PPT2  \\\n",
      "0         28.074101         23.006936  6.818887   69.451805  ...         0.0   \n",
      "1         29.850689         24.035009  5.691890   51.937448  ...         0.0   \n",
      "2         30.091292         24.565633  6.138224   20.573050  ...         0.0   \n",
      "3         29.704629         23.326177  5.650050   65.727144  ...         0.0   \n",
      "4         29.113934         23.486480  5.735004  107.965535  ...         0.0   \n",
      "\n",
      "   LDAPS_PPT3  LDAPS_PPT4      lat      lon       DEM   Slope  \\\n",
      "0         0.0         0.0  37.6046  126.991  212.3350  2.7850   \n",
      "1         0.0         0.0  37.6046  127.032   44.7624  0.5141   \n",
      "2         0.0         0.0  37.5776  127.058   33.3068  0.2661   \n",
      "3         0.0         0.0  37.6450  127.022   45.7160  2.5348   \n",
      "4         0.0         0.0  37.5507  127.135   35.0380  0.5055   \n",
      "\n",
      "   Solar radiation  Next_Tmax  Next_Tmin  \n",
      "0      5992.895996       29.1       21.2  \n",
      "1      5869.312500       30.5       22.5  \n",
      "2      5863.555664       31.1       23.9  \n",
      "3      5856.964844       31.7       24.3  \n",
      "4      5859.552246       31.2       22.5  \n",
      "\n",
      "[5 rows x 25 columns]\n"
     ]
    }
   ],
   "source": [
    "# Display the first few rows of the dataset\n",
    "print(data.head())"
   ]
  },
  {
   "cell_type": "code",
   "execution_count": 4,
   "id": "44223639",
   "metadata": {},
   "outputs": [],
   "source": [
    "# Data preprocessing\n",
    "# Drop irrelevant columns (station, Date) and the target variables (Next_Tmax, Next_Tmin)\n",
    "X = data.drop(['station', 'Date', 'Next_Tmax', 'Next_Tmin'], axis=1)\n",
    "y_max = data['Next_Tmax']\n",
    "y_min = data['Next_Tmin']"
   ]
  },
  {
   "cell_type": "code",
   "execution_count": null,
   "id": "cd1a402f",
   "metadata": {},
   "outputs": [],
   "source": [
    "# Split the dataset into training and testing sets (80% training, 20% testing)\n",
    "X_train_max, X_test_max, y_train_max, y_test_max = train_test_split(X, y_max, test_size=0.2, random_state=42)\n",
    "X_train_min, X_test_min, y_train_min, y_test_min = train_test_split(X, y_min, test_size=0.2, random_state=42)\n",
    "\n",
    "# Train Random Forest models\n",
    "rf_model_max = RandomForestRegressor(random_state=42)\n",
    "rf_model_min = RandomForestRegressor(random_state=42)\n",
    "\n",
    "rf_model_max.fit(X_train_max, y_train_max)\n",
    "rf_model_min.fit(X_train_min, y_train_min)"
   ]
  },
  {
   "cell_type": "code",
   "execution_count": null,
   "id": "c82031ad",
   "metadata": {},
   "outputs": [],
   "source": [
    "# Evaluate the models\n",
    "# Predictions for maximum temperature\n",
    "y_pred_max = rf_model_max.predict(X_test_max)\n",
    "mse_max = mean_squared_error(y_test_max, y_pred_max)\n",
    "print(\"Mean Squared Error (Max Temperature):\", mse_max)\n",
    "\n",
    "# Predictions for minimum temperature\n",
    "y_pred_min = rf_model_min.predict(X_test_min)\n",
    "mse_min = mean_squared_error(y_test_min, y_pred_min)\n",
    "print(\"Mean Squared Error (Min Temperature):\", mse_min)\n",
    "\n",
    "# Make predictions\n",
    "# Assuming you have new data in a DataFrame called 'new_data'\n",
    "# Replace 'new_data' with your actual new data\n",
    "new_predictions_max = rf_model_max.predict(new_data)\n",
    "new_predictions_min = rf_model_min.predict(new_data)\n",
    "\n",
    "# You can now use new_predictions_max and new_predictions_min for further analysis or applications."
   ]
  },
  {
   "cell_type": "code",
   "execution_count": null,
   "id": "f55caf81",
   "metadata": {},
   "outputs": [],
   "source": []
  }
 ],
 "metadata": {
  "kernelspec": {
   "display_name": "Python 3 (ipykernel)",
   "language": "python",
   "name": "python3"
  },
  "language_info": {
   "codemirror_mode": {
    "name": "ipython",
    "version": 3
   },
   "file_extension": ".py",
   "mimetype": "text/x-python",
   "name": "python",
   "nbconvert_exporter": "python",
   "pygments_lexer": "ipython3",
   "version": "3.10.9"
  }
 },
 "nbformat": 4,
 "nbformat_minor": 5
}
